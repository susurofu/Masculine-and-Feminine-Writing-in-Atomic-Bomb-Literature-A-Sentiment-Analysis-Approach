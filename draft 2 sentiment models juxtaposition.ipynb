{
 "cells": [
  {
   "cell_type": "code",
   "execution_count": 29,
   "metadata": {},
   "outputs": [
    {
     "data": {
      "text/plain": [
       "0.5"
      ]
     },
     "execution_count": 29,
     "metadata": {},
     "output_type": "execute_result"
    }
   ],
   "source": [
    "import oseti\n",
    "import statistics\n",
    "import nltk\n",
    "#nltk.download('all') #run first time only\n",
    "from nltk.sentiment import SentimentIntensityAnalyzer"
   ]
  },
  {
   "cell_type": "code",
   "execution_count": 40,
   "metadata": {},
   "outputs": [],
   "source": [
    "sia = SentimentIntensityAnalyzer()\n",
    "analyzer = oseti.Analyzer()"
   ]
  },
  {
   "cell_type": "code",
   "execution_count": 10,
   "metadata": {},
   "outputs": [],
   "source": [
    "import oseti"
   ]
  },
  {
   "cell_type": "markdown",
   "metadata": {},
   "source": [
    "# Oseti-dictionary based sentiment analysis vs rule-based VADER\n",
    "Here, we juxtapose the two approaches. Oseti sentiment analyzer has a built-in sentence tokenizer, while VADER demands usage of a particular tokenizers (like one in the NLTK package)."
   ]
  },
  {
   "cell_type": "code",
   "execution_count": 23,
   "metadata": {},
   "outputs": [
    {
     "data": {
      "text/plain": [
       "159"
      ]
     },
     "execution_count": 23,
     "metadata": {},
     "output_type": "execute_result"
    }
   ],
   "source": [
    "with open (\"direct speech sampling JA.txt\", encoding=\"utf-8\") as file:\n",
    "    text = file.read()\n",
    "sampling_ja = text.split(\"\\n\")\n",
    "\n",
    "with open (\"direct speech sampling EN.txt\", encoding=\"utf-8\") as file:\n",
    "    text = file.read()\n",
    "sampling_en = text.split(\"\\n\")"
   ]
  },
  {
   "cell_type": "code",
   "execution_count": 30,
   "metadata": {},
   "outputs": [],
   "source": [
    "sent_values_ja = [statistics.mean(analyzer.analyze(sent)) for sent in sampling_ja]"
   ]
  },
  {
   "cell_type": "code",
   "execution_count": 32,
   "metadata": {},
   "outputs": [
    {
     "data": {
      "text/plain": [
       "0.05882125386842368"
      ]
     },
     "execution_count": 32,
     "metadata": {},
     "output_type": "execute_result"
    }
   ],
   "source": [
    "statistics.mean(sent_values_ja)"
   ]
  },
  {
   "cell_type": "code",
   "execution_count": 36,
   "metadata": {},
   "outputs": [],
   "source": [
    "sent_values_en = [sia.polarity_scores(sent)['compound'] for sent in sampling_en]"
   ]
  },
  {
   "cell_type": "code",
   "execution_count": 39,
   "metadata": {},
   "outputs": [
    {
     "data": {
      "text/plain": [
       "[-0.0772,\n",
       " 0.0,\n",
       " 0.5252,\n",
       " 0.5106,\n",
       " 0.0,\n",
       " 0.8225,\n",
       " 0.0,\n",
       " 0.0,\n",
       " 0.0,\n",
       " 0.0,\n",
       " 0.0,\n",
       " -0.8807,\n",
       " 0.1476,\n",
       " -0.296,\n",
       " 0.0,\n",
       " -0.8074,\n",
       " 0.0,\n",
       " 0.4404,\n",
       " 0.0,\n",
       " 0.0,\n",
       " 0.0,\n",
       " 0.3412,\n",
       " -0.25,\n",
       " 0.2732,\n",
       " 0.0,\n",
       " 0.296,\n",
       " 0.0,\n",
       " 0.0,\n",
       " 0.0,\n",
       " 0.0,\n",
       " 0.2732,\n",
       " -0.1779,\n",
       " 0.0,\n",
       " 0.3818,\n",
       " 0.0,\n",
       " 0.0,\n",
       " 0.0,\n",
       " -0.5851,\n",
       " -0.0444,\n",
       " 0.0,\n",
       " 0.0,\n",
       " -0.4939,\n",
       " -0.4939,\n",
       " 0.2732,\n",
       " -0.2163,\n",
       " -0.4939,\n",
       " 0.0,\n",
       " 0.0,\n",
       " -0.4939,\n",
       " 0.0711,\n",
       " 0.0352,\n",
       " -0.3919,\n",
       " 0.8075,\n",
       " -0.5122,\n",
       " -0.25,\n",
       " 0.0,\n",
       " -0.6288,\n",
       " -0.4098,\n",
       " 0.0,\n",
       " -0.5256,\n",
       " 0.0,\n",
       " 0.0,\n",
       " 0.0772,\n",
       " 0.3217,\n",
       " 0.5859,\n",
       " 0.0,\n",
       " 0.0,\n",
       " 0.5423,\n",
       " -0.5848,\n",
       " -0.4019,\n",
       " -0.8439,\n",
       " 0.9001,\n",
       " -0.4939,\n",
       " 0.0,\n",
       " 0.0,\n",
       " 0.3612,\n",
       " 0.8126,\n",
       " 0.4767,\n",
       " 0.0,\n",
       " 0.0,\n",
       " 0.8555,\n",
       " 0.7998,\n",
       " 0.2144,\n",
       " 0.7351,\n",
       " 0.2263,\n",
       " 0.0,\n",
       " 0.4168,\n",
       " 0.6322,\n",
       " -0.5267,\n",
       " 0.0,\n",
       " 0.0,\n",
       " 0.1027,\n",
       " 0.0,\n",
       " 0.0,\n",
       " 0.0772,\n",
       " 0.0,\n",
       " -0.5994,\n",
       " -0.4939,\n",
       " -0.7506,\n",
       " 0.8221,\n",
       " -0.3063,\n",
       " 0.0,\n",
       " -0.6748,\n",
       " 0.0,\n",
       " 0.0,\n",
       " 0.6442,\n",
       " 0.0,\n",
       " 0.0,\n",
       " 0.0,\n",
       " 0.3612,\n",
       " 0.2263,\n",
       " -0.0772,\n",
       " 0.2167,\n",
       " 0.0,\n",
       " 0.672,\n",
       " -0.9194,\n",
       " -0.3818,\n",
       " -0.4767,\n",
       " 0.4749,\n",
       " 0.0,\n",
       " 0.4779,\n",
       " 0.4588,\n",
       " 0.4939,\n",
       " 0.4215,\n",
       " 0.0,\n",
       " 0.0,\n",
       " 0.0,\n",
       " 0.0,\n",
       " 0.0,\n",
       " -0.6705,\n",
       " -0.9287,\n",
       " 0.4215,\n",
       " 0.0,\n",
       " 0.0,\n",
       " 0.0,\n",
       " 0.0,\n",
       " -0.0516,\n",
       " -0.4939,\n",
       " 0.0,\n",
       " 0.0,\n",
       " -0.8591,\n",
       " 0.0,\n",
       " 0.0,\n",
       " 0.0,\n",
       " 0.0,\n",
       " -0.4404,\n",
       " 0.128,\n",
       " -0.2883,\n",
       " 0.0,\n",
       " 0.0772,\n",
       " 0.0,\n",
       " 0.0,\n",
       " 0.0,\n",
       " 0.0,\n",
       " 0.6361,\n",
       " -0.4389,\n",
       " -0.296,\n",
       " 0.0,\n",
       " 0.5267]"
      ]
     },
     "execution_count": 39,
     "metadata": {},
     "output_type": "execute_result"
    }
   ],
   "source": [
    "sent_values_en"
   ]
  },
  {
   "cell_type": "code",
   "execution_count": 38,
   "metadata": {},
   "outputs": [
    {
     "data": {
      "text/plain": [
       "0.002313207547169812"
      ]
     },
     "execution_count": 38,
     "metadata": {},
     "output_type": "execute_result"
    }
   ],
   "source": [
    "statistics.mean(sent_values_en)"
   ]
  },
  {
   "cell_type": "markdown",
   "metadata": {},
   "source": [
    "check how many zero results oseti has in the positions in which VADER shows a result"
   ]
  },
  {
   "cell_type": "code",
   "execution_count": 42,
   "metadata": {},
   "outputs": [
    {
     "name": "stdout",
     "output_type": "stream",
     "text": [
      "30\n"
     ]
    }
   ],
   "source": [
    "non_mutual_z_points = [] #remember indices of zero \n",
    "for i in range(len(sampling_en)):\n",
    "    if sent_values_en[i] != 0 and sent_values_ja[i] == 0:\n",
    "        non_mutual_z_points.append(i)\n",
    "print(len(non_mutual_z_points))\n"
   ]
  },
  {
   "cell_type": "markdown",
   "metadata": {},
   "source": [
    "remove these values from the lists of sentiment scores"
   ]
  },
  {
   "cell_type": "code",
   "execution_count": 47,
   "metadata": {},
   "outputs": [
    {
     "data": {
      "text/plain": [
       "0.3970964977709654"
      ]
     },
     "execution_count": 47,
     "metadata": {},
     "output_type": "execute_result"
    }
   ],
   "source": [
    "non_zero_scores_ja = [sent_values_ja[i] for i in range(len(sent_values_ja)) if i not in non_mutual_z_points]\n",
    "non_zero_scores_en = [sent_values_en[i] for i in range(len(sent_values_en)) if i not in non_mutual_z_points]\n",
    "statistics.correlation(non_zero_scores_ja,non_zero_scores_en)"
   ]
  }
 ],
 "metadata": {
  "kernelspec": {
   "display_name": "base",
   "language": "python",
   "name": "python3"
  },
  "language_info": {
   "codemirror_mode": {
    "name": "ipython",
    "version": 3
   },
   "file_extension": ".py",
   "mimetype": "text/x-python",
   "name": "python",
   "nbconvert_exporter": "python",
   "pygments_lexer": "ipython3",
   "version": "3.11.9"
  }
 },
 "nbformat": 4,
 "nbformat_minor": 2
}
