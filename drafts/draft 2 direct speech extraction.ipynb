{
 "cells": [
  {
   "cell_type": "markdown",
   "metadata": {},
   "source": [
    "# Direct Speech Extraction\n",
    "In this notebook the direct speech was extracted. We used the basic assumption that in Japanese texts the direct speech is included between quatation marks 「」. Although the research on the accuracy of this approach to extraction of direct speech in Japanese sentences are not familiar to us, for the European language research by Maciej Eder shows that such approach is rather accurate. For the Japanese language that shoul be even more accuarate as there are more speciffic quatation marks for book titles and other purposes as 『』、〈〉, etc."
   ]
  },
  {
   "cell_type": "code",
   "execution_count": 20,
   "metadata": {},
   "outputs": [],
   "source": [
    "import os\n",
    "import re\n",
    "import random"
   ]
  },
  {
   "cell_type": "code",
   "execution_count": 21,
   "metadata": {},
   "outputs": [],
   "source": [
    "def ds_extract(input_text:str):\n",
    "    \"\"\"extracts direct speech from an input text\"\"\"\n",
    "    pattern = r'「(.*?)」'\n",
    "    direct_speech = re.findall(pattern, input_text, re.DOTALL)\n",
    "    return \"\\n\".join(direct_speech)\n",
    "\n"
   ]
  },
  {
   "cell_type": "code",
   "execution_count": null,
   "metadata": {},
   "outputs": [],
   "source": []
  },
  {
   "cell_type": "markdown",
   "metadata": {},
   "source": [
    "Here, the we compose the corpus of extracted direct speech"
   ]
  },
  {
   "cell_type": "code",
   "execution_count": 22,
   "metadata": {},
   "outputs": [
    {
     "name": "stdout",
     "output_type": "stream",
     "text": [
      "Abe Kazue - M\n",
      "Ariyoshi Sawako - F\n",
      "Fujimoto Hitoshi - M\n",
      "Fumizawa Ryuichi - M\n",
      "Hara Tamiki - M\n",
      "Hashioka Takeshi - M\n",
      "Hayashi Kyoko - F\n",
      "Hironaka Toshio - F\n",
      "Hosoda Tamiki - M\n",
      "Hotta Yoshie - M\n",
      "Iida Momo - M\n",
      "Ikuguchi Juro - M\n",
      "Inada Mihoko - F\n",
      "Inoue Mitsuhara - M\n",
      "Ishida Koji - M\n",
      "Iwasaki Seiichiro - M\n",
      "Kajiyama Tohiyuki - M\n",
      "Kamezawa Miyuki - M\n",
      "Kanai Toshihiro - M\n",
      "Katsura Yoshihisa - M\n",
      "Kawakami Sokun - M\n",
      "Kokubo Hitoshi - M\n",
      "Kora Chihoko - F\n",
      "Kurita Tohei - M\n",
      "Kyo Kusao - M\n",
      "Mikawa Kiyo - F\n",
      "Nakai Masafumi - M\n",
      "Nakamoto Takako - F\n",
      "Nakayama Shiro - M\n",
      "Nakazato Kisho - M\n",
      "Natsubori Masamoto - M\n",
      "Nishihara Kei - M\n",
      "Ochi Michio - M\n",
      "Oda Katsuzo - M\n",
      "Oda Makoto - M\n",
      "Oe Kenzaburo - M\n",
      "Ota Yoko - F\n",
      "Saiki Hisao - M\n",
      "Sata Ineko - F\n",
      "Takeda Taijun - M\n",
      "Takenishi Hiroko - F\n",
      "Tsukuda Jitsuo - M\n"
     ]
    }
   ],
   "source": [
    "folders = os.listdir(\"preprocessed_texts\")\n",
    "for subfolder in folders:\n",
    "    print(subfolder)\n",
    "    if not os.path.exists(f\"direct speech\\\\{subfolder}\"):\n",
    "        os.makedirs(f\"direct speech\\\\{subfolder}\")\n",
    "    \n",
    "    subfolder_files = os.listdir(f\"preprocessed_texts\\\\{subfolder}\")\n",
    "    for doc in subfolder_files:\n",
    "        with open(f\"preprocessed_texts\\\\{subfolder}\\\\{doc}\", encoding=\"utf-8\") as file:\n",
    "            text = file.read()\n",
    "        direct_speech = ds_extract(text)   \n",
    "        with open(f\"direct speech\\\\{subfolder}\\\\{doc}\", encoding=\"utf-8\", mode=\"w\") as file:\n",
    "            file.write(direct_speech)\n",
    "\n",
    "\n"
   ]
  },
  {
   "cell_type": "markdown",
   "metadata": {},
   "source": [
    "Random sampling of direct speech from the entire corpus. 2 lines from each text."
   ]
  },
  {
   "cell_type": "code",
   "execution_count": 23,
   "metadata": {},
   "outputs": [],
   "source": [
    "def random_ds(input_text:str):\n",
    "    \"returns two random direct speech sentences if the length is above 2\"\n",
    "    sents = input_text.split(\"\\n\")\n",
    "    if len(sents) > 4:\n",
    "        return random.sample(sents,4)\n",
    "    else:\n",
    "        return sents\n",
    " "
   ]
  },
  {
   "cell_type": "code",
   "execution_count": 24,
   "metadata": {},
   "outputs": [],
   "source": [
    "random_sampling =[]\n",
    "folders = os.listdir(f\"direct speech\")\n",
    "for folder in folders:\n",
    "    files = os.listdir(f\"direct speech\\\\{folder}\")\n",
    "    for doc in files:\n",
    "        with open (f\"direct speech\\\\{folder}\\\\{doc}\", encoding=\"utf-8\") as file:\n",
    "            text = file.read()\n",
    "        random_sampling += random_ds(text)\n",
    "with open (\"direct speech sampling JA new.txt\", encoding=\"utf-8\", mode=\"w\") as file:\n",
    "    file.write(\"\\n\".join(random_sampling))"
   ]
  },
  {
   "cell_type": "code",
   "execution_count": 25,
   "metadata": {},
   "outputs": [],
   "source": [
    "#later fix when punctuation marks are removed"
   ]
  },
  {
   "cell_type": "code",
   "execution_count": 26,
   "metadata": {},
   "outputs": [],
   "source": [
    "def aus_extract(input_text:str):\n",
    "    \"\"\"extracts author's speech from an input text\"\"\"\n",
    "    pattern = r'「(.*?)」'\n",
    "    pre_author_speech = re.sub(pattern, \"\", text)\n",
    "    author_speech = re.sub(\"\\n\\n\",\"\\n\",pre_author_speech)\n",
    "    return author_speech\n",
    "    "
   ]
  },
  {
   "cell_type": "code",
   "execution_count": 27,
   "metadata": {},
   "outputs": [],
   "source": [
    "folders = os.listdir(\"preprocessed_texts\")\n",
    "for subfolder in folders:\n",
    "    if not os.path.exists(f\"author's speech\\\\{subfolder}\"):\n",
    "        os.makedirs(f\"author's speech\\\\{subfolder}\")\n",
    "    \n",
    "    subfolder_files = os.listdir(f\"preprocessed_texts\\\\{subfolder}\")\n",
    "    for doc in subfolder_files:\n",
    "        with open(f\"preprocessed_texts\\\\{subfolder}\\\\{doc}\", encoding=\"utf-8\") as file:\n",
    "            text = file.read()\n",
    "        direct_speech = aus_extract(text)   \n",
    "        with open(f\"author's speech\\\\{subfolder}\\\\{doc}\", encoding=\"utf-8\", mode=\"w\") as file:\n",
    "            file.write(direct_speech)\n"
   ]
  },
  {
   "cell_type": "markdown",
   "metadata": {},
   "source": [
    "random sampling of author's speech"
   ]
  },
  {
   "cell_type": "code",
   "execution_count": 28,
   "metadata": {},
   "outputs": [],
   "source": [
    "def random_aus(input_text:str):\n",
    "    \"returns two random author's speech sentences if the length is above 2\"\n",
    "    sents = input_text.split(\"\\n\")\n",
    "    if len(sents) > 4:\n",
    "        return random.sample(sents, 4)\n",
    "    else:\n",
    "        return sents"
   ]
  },
  {
   "cell_type": "code",
   "execution_count": 29,
   "metadata": {},
   "outputs": [],
   "source": [
    "random_sampling =[]\n",
    "folders = os.listdir(f\"author's speech\")\n",
    "for folder in folders:\n",
    "    files = os.listdir(f\"author's speech\\\\{folder}\")\n",
    "    for doc in files:\n",
    "        with open (f\"author's speech\\\\{folder}\\\\{doc}\", encoding=\"utf-8\") as file:\n",
    "            text = file.read()\n",
    "        random_sampling += random_aus(text)\n",
    "with open (\"author's speech sampling JA new.txt\", encoding=\"utf-8\", mode=\"w\") as file:\n",
    "    file.write(\"\\n\".join(random_sampling))"
   ]
  }
 ],
 "metadata": {
  "kernelspec": {
   "display_name": "sentijap",
   "language": "python",
   "name": "python3"
  },
  "language_info": {
   "codemirror_mode": {
    "name": "ipython",
    "version": 3
   },
   "file_extension": ".py",
   "mimetype": "text/x-python",
   "name": "python",
   "nbconvert_exporter": "python",
   "pygments_lexer": "ipython3",
   "version": "3.11.9"
  }
 },
 "nbformat": 4,
 "nbformat_minor": 2
}
