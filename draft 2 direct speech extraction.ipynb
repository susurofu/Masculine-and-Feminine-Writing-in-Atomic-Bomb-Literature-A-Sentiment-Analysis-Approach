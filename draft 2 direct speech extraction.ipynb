{
 "cells": [
  {
   "cell_type": "markdown",
   "metadata": {},
   "source": [
    "# Direct Speech Extraction\n",
    "In this notebook the direct speech was extracted. We used the basic assumption that in Japanese texts the direct speech is included between quatation marks 「」. Although the research on the accuracy of this approach to extraction of direct speech in Japanese sentences are not familiar to us, for the European language research by Maciej Eder shows that such approach is rather accurate. For the Japanese language that shoul be even more accuarate as there are more speciffic quatation marks for book titles and other purposes as 『』、〈〉, etc."
   ]
  },
  {
   "cell_type": "code",
   "execution_count": 9,
   "metadata": {},
   "outputs": [],
   "source": [
    "import os\n",
    "import re\n",
    "import random"
   ]
  },
  {
   "cell_type": "code",
   "execution_count": 5,
   "metadata": {},
   "outputs": [],
   "source": [
    "def ds_extract(input_text:str):\n",
    "    \"\"\"extracts direct speech from input text\"\"\"\n",
    "    pattern = r'「(.*?)」'\n",
    "    direct_speech = re.findall(pattern, input_text)\n",
    "    return \"\\n\".join(direct_speech)\n",
    "\n",
    "\n"
   ]
  },
  {
   "cell_type": "markdown",
   "metadata": {},
   "source": [
    "Here, the we compose the corpus of extracted direct speech"
   ]
  },
  {
   "cell_type": "code",
   "execution_count": 18,
   "metadata": {},
   "outputs": [],
   "source": [
    "folders = os.listdir(\"preprocessed_texts\")\n",
    "for subfolder in folders:\n",
    "    if not os.path.exists(f\"direct speech\\\\{subfolder}\"):\n",
    "        os.makedirs(f\"direct speech\\\\{subfolder}\")\n",
    "    \n",
    "    subfolder_files = os.listdir(f\"preprocessed_texts\\\\{subfolder}\")\n",
    "    for doc in subfolder_files:\n",
    "        with open(f\"preprocessed_texts\\\\{subfolder}\\\\{doc}\", encoding=\"utf-8\") as file:\n",
    "            text = file.read()\n",
    "        direct_speech = ds_extract(text)   \n",
    "    with open(f\"direct speech\\\\{subfolder}\\\\{doc}\", encoding=\"utf-8\", mode=\"w\") as file:\n",
    "        file.write(direct_speech)\n",
    "\n",
    "\n"
   ]
  },
  {
   "cell_type": "markdown",
   "metadata": {},
   "source": [
    "Random sampling of direct speech from the entire corpus. 2 lines from each text."
   ]
  },
  {
   "cell_type": "code",
   "execution_count": 41,
   "metadata": {},
   "outputs": [],
   "source": [
    "def random_ds(input_text:str):\n",
    "    \"returns two random direct speech sentences if the length is above 2\"\n",
    "    sents = input_text.split(\"\\n\")\n",
    "    if len(sents) > 4:\n",
    "        return random.sample(sents,4)\n",
    "    else:\n",
    "        return sents\n",
    " "
   ]
  },
  {
   "cell_type": "code",
   "execution_count": 42,
   "metadata": {},
   "outputs": [
    {
     "name": "stdout",
     "output_type": "stream",
     "text": [
      "Abe Kazue - M 安部 和枝 - 小さき十字架を負いて.txt\n",
      "Ariyoshi Sawako - F 有吉 佐和子 - 祈禱.txt\n",
      "Fujimoto Hitoshi - M 藤本 仁 - 倉橋島.txt\n",
      "Fumizawa Ryuichi - M 文沢隆一 - 重い車.txt\n",
      "Hara Tamiki - M 原 民喜 - 魔のひととき.txt\n",
      "Hashioka Takeshi - M 橋岡 武 - 八月二十三日の事.txt\n",
      "Hayashi Kyoko - F 林 京子 - 道.txt\n",
      "Hironaka Toshio - F 廣中 俊雄 - 炎の日.txt\n",
      "Hosoda Tamiki - M 細田 民樹 - 被爆者たち.txt\n",
      "Hotta Yoshie - M 堀田 善衛 - 審判 １.txt\n",
      "Iida Momo - M いいだ　もも - アメリカの英雄7.txt\n",
      "Ikuguchi Juro - M 生口 十朗 - 死者への勲章.txt\n",
      "Inada Mihoko - F 稲田 美穂子 - 見知られぬ旅.txt\n",
      "Inoue Mitsuhara - M 井上 光晴 - 逆流する重たい時間.txt\n",
      "Ishida Koji - M 石田 耕治 - 雲の記憶.txt\n",
      "Iwasaki Seiichiro - M 岩崎 清一郎 - 過ぐる夏に.txt\n",
      "Kajiyama Tohiyuki - M 梶山 季之 - 実験都市.txt\n",
      "Kamezawa Miyuki - M 亀沢 深雪 - 広島巡礼.txt\n",
      "Kanai Toshihiro - M 金井利博 - 核権力　ヒロシマの告発 6.txt\n",
      "Katsura Yoshihisa - M 桂 芳久 - 火と碑.txt\n",
      "Kawakami Sokun - M 川上宗薫 - 残存者.txt\n",
      "Kokubo Hitoshi - M 小久保 均 - 夏の刻印.txt\n",
      "Kora Chihoko - F 古浦 千穂子 - 風化の底.txt\n",
      "Kurita Tohei - M 栗田 藤平 - 青銅色の闇.txt\n",
      "Kyo Kusao - M 峡 草夫 - どくだみ草.txt\n",
      "Mikawa Kiyo - F 美川 きよ - あの日のこと.txt\n",
      "Nakai Masafumi - M 中井 正文 - 名前のない男.txt\n",
      "Nakamoto Takako - F 中本 たか子 - 死の鞭と光.txt\n",
      "Nakayama Shiro - M 中山 士朗 - 死の影.txt\n",
      "Nakazato Kisho - M 中里 喜昭 - 黄葵.txt\n",
      "Natsubori Masamoto - M 夏堀 正元 - 聖地の女.txt\n",
      "Nishihara Kei - M 西原 啓 - 焦土.txt\n",
      "Ochi Michio - M 越智 道雄 - 遺贈された生活.txt\n",
      "Oda Katsuzo - M 小田 勝造 - 同窓会は夏に.txt\n",
      "Oda Makoto - M 小田 実 - HIROSHIMA 3.txt\n",
      "Oe Kenzaburo - M 大江 健三郎 - 核状況のカナリア理論.txt\n",
      "Ota Yoko - F 田 洋子 - 私と「原爆症」とについて.txt\n",
      "Saiki Hisao - M 斎木寿夫 - 死者は裁かない.txt\n",
      "Sata Ineko - F 佐多 稲子 - 色のない画.txt\n",
      "Takeda Taijun - M 武田 泰淳 - 第一のボタン.txt\n",
      "Takenishi Hiroko - F 竹西 寛子 - 管絃祭.txt\n",
      "Tsukuda Jitsuo - M 佃 実夫 - 赤と黒の喪章.txt\n"
     ]
    }
   ],
   "source": [
    "random_sampling =[]\n",
    "folders = os.listdir(f\"direct speech\")\n",
    "for folder in folders:\n",
    "    files = os.listdir(f\"direct speech\\\\{folder}\")\n",
    "    for doc in files:\n",
    "        with open (f\"direct speech\\\\{folder}\\\\{doc}\", encoding=\"utf-8\") as file:\n",
    "            text = file.read()\n",
    "        random_sampling += random_ds(text)\n",
    "with open (\"direct speech sampling JA new.txt\", encoding=\"utf-8\", mode=\"w\") as file:\n",
    "    file.write(\"\\n\".join(random_sampling))"
   ]
  }
 ],
 "metadata": {
  "kernelspec": {
   "display_name": "sentijap",
   "language": "python",
   "name": "python3"
  },
  "language_info": {
   "codemirror_mode": {
    "name": "ipython",
    "version": 3
   },
   "file_extension": ".py",
   "mimetype": "text/x-python",
   "name": "python",
   "nbconvert_exporter": "python",
   "pygments_lexer": "ipython3",
   "version": "3.11.9"
  }
 },
 "nbformat": 4,
 "nbformat_minor": 2
}
