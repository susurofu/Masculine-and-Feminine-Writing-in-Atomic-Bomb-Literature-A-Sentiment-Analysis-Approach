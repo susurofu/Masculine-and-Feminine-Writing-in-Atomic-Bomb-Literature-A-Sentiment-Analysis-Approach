{
 "cells": [
  {
   "cell_type": "code",
   "execution_count": 1,
   "metadata": {},
   "outputs": [],
   "source": [
    "import os\n"
   ]
  },
  {
   "cell_type": "code",
   "execution_count": 2,
   "metadata": {},
   "outputs": [],
   "source": [
    "def is_japanese(char):\n",
    "    \"\"\"checks if a character is Japanese.\"\"\"\n",
    "    unicode_point = ord(char)\n",
    "    return (0x3040 <= unicode_point <= 0x309F or\n",
    "            0x30A0 <= unicode_point <= 0x30FF or\n",
    "            0x4E00 <= unicode_point <= 0x9FAF)\n",
    "\n",
    "def clear_extra_spaces (input_text:str):\n",
    "    \"\"\"removes unnecessary common spaces (excluding Japanese spaces) from the text\"\"\"\n",
    "    text = list(input_text)\n",
    "    extra_spaces_index = []\n",
    "\n",
    "    for i in range(1,len(text)-1):\n",
    "        if text[i] == \" \":\n",
    "            if (is_japanese(text[i-1]) and is_japanese(text[i+1])) or (text[i-1] == \" \" or text[i+1] == \" \"):\n",
    "                if (not is_japanese(text[i-1]) and text[i-1] != \" \") and text[i+1] == \" \": \n",
    "                    continue\n",
    "                extra_spaces_index.append(i)\n",
    "        \n",
    "    no_extra_spaces = [text[i] for i in range(len(text)) if i not in extra_spaces_index]\n",
    "    return \"\".join(no_extra_spaces)\n",
    "\n",
    "\n"
   ]
  },
  {
   "cell_type": "code",
   "execution_count": 9,
   "metadata": {},
   "outputs": [],
   "source": [
    "def correct_ocr_errors(input_text:str):\n",
    "    \"\"\"replaces some common ocr errors for the current case\"\"\" \n",
    "    circle = clear_extra_spaces(input_text)\n",
    "    circle = circle.replace(\":::\", \"……\")\n",
    "    circle = circle.replace(\":：:\", \"……\")\n",
    "    circle = circle.replace(\"\t\", \"……\")\n",
    "    circle = circle.replace(\"・て\", \"で\")\n",
    "    circle = circle.replace(\"•て\", \"で\")\n",
    "    circle = circle.replace(\"•\", \"・\")\n",
    "    circle = circle.replace(\":：:〇\", \"……。\")\n",
    "    circle = circle.replace(\"^\", \"。\")\n",
    "    circle = circle.replace(\":：:。\", \"……。\")\n",
    "    circle = circle.replace(\"た〇\", \"た。\")\n",
    "    circle = circle.replace(\"た0\", \"た。\")\n",
    "    return circle"
   ]
  },
  {
   "cell_type": "markdown",
   "metadata": {},
   "source": [
    "for 4/11 write functions which fix the errors in ocr\n",
    "extract the direct speech\n",
    "then create a population sample from texts\n",
    "then check how Japanese SA models correspond with VADER\n",
    "decide the most similar one and use it\n",
    "then\n"
   ]
  },
  {
   "cell_type": "code",
   "execution_count": 10,
   "metadata": {},
   "outputs": [
    {
     "data": {
      "text/plain": [
       "'今……年でも広島。にや……って来た。こうして広で島た。の土を踏むた。と、やはりなつかし Miss Aston い思いがする。かたくなに拒んできた広島、なっかしいとは露ほども思わなかった広島を、わたしはいまなっかしい思いで、降りそそぐ太陽に手を翳しながら辺りを見まわす。あの遠くに霞む山、あれは確か安芸の小富士、この水をいっぱい湛えた川は、何川だろう。\\n今年でもう三年になる。こうして夏巡礼するのが、わたしの年中行事になった。その切つ掛けになったのは、横浜在住のKさんという女の方からいただいた冊子と、それに添えられた一通の手紙による。Kさんは未知の方であった。わたしの被爆体験を元にした作品集が、新聞で紹介されて以来、未知の方から手紙をいただくことが多くなった。\\nわたしはкさんの手紙に目を通した瞬間、全身に電気を浴びたような衝撃をうけた。手紙には、新聞でわたしを知ったこと、冊子をМ行したいきさつなどが書かれ、へ私は広島で被爆したものだが、こういう人をご存知ないだろうか。県立第二高女の二年生西組の生き残りとして、みんなの被爆資料を集めたいのだが、遺族のわかる人が少ない。もしやと思って藁にも維る思いでたずねるのだが……〉 わたしが全身に電気を浴びたような衝撃をうけたのは、『こういう人』として書かれた名前が、まぎれもない妹の名前であったからである。三十余年ぶりに見る妹の名前に、わたしは絶息する思いであった。わたしの身内以外に、その消息を探していた人があったとは。それも三十年以上たったいまも、 こうして一人一人探している人がいる。わたしは自分かひどく甘いものに思えた。'"
      ]
     },
     "execution_count": 10,
     "metadata": {},
     "output_type": "execute_result"
    }
   ],
   "source": [
    "test = \"\"\"今:：:年・ても広島^にや:::って来た。こうして広•て島た〇の土を踏むた0と、や はりなつかし Miss     Aston い思いが    する。かたくなに拒んできた広島、な っかしいとは露ほども思わなかった広島を、わたしはいまな っかしい思いで、降りそそぐ太陽に手を翳しながら辺りを見 まわす。あの遠くに霞む山、あれは確か安芸の小富士、この 水をいっぱい湛えた川は、何川だろう。\n",
    "今年でもう三年になる。こうして夏巡礼するのが、わたし の年中行事になった。その切つ掛けになったのは、横浜在住 のKさんという女の方からいただいた冊子と、それに添えら れた一通の手紙による。Kさんは未知の方であった。わたし の被爆体験を元にした作品集が、新聞で紹介されて以来、未 知の方から手紙をいただくことが多くなった。\n",
    "わたしはкさんの手紙に目を通した瞬間、全身に電気を浴 びたような衝撃をうけた。手紙には、新聞でわたしを知った こと、冊子をМ行したいきさつなどが書かれ、へ私は広島で被 爆したものだが、こういう人をご存知ないだろうか。県立第 二高女の二年生西組の生き残りとして、みんなの被爆資料を 集めたいのだが、遺族のわかる人が少ない。もしやと思って 藁にも維る思いでたずねるのだが……〉 わたしが全身に電気を浴びたような衝撃をうけたのは、『こ ういう人』として書かれた名前が、まぎれもない妹の名前で あったからである。三十余年ぶりに見る妹の名前に、わたし は絶息する思いであった。わたしの身内以外に、その消息を 探していた人があったとは。それも三十年以上たったいまも、 こうして一人一人探している人がいる。わたしは自分かひど く甘いものに思えた。\"\"\"\n",
    "a = correct_ocr_errors(test)\n",
    "a"
   ]
  },
  {
   "cell_type": "code",
   "execution_count": 7,
   "metadata": {},
   "outputs": [
    {
     "data": {
      "text/plain": [
       "'bcd'"
      ]
     },
     "execution_count": 7,
     "metadata": {},
     "output_type": "execute_result"
    }
   ],
   "source": [
    "a= \"abcde\"\n",
    "a[1:-1]\n"
   ]
  }
 ],
 "metadata": {
  "kernelspec": {
   "display_name": "base",
   "language": "python",
   "name": "python3"
  },
  "language_info": {
   "codemirror_mode": {
    "name": "ipython",
    "version": 3
   },
   "file_extension": ".py",
   "mimetype": "text/x-python",
   "name": "python",
   "nbconvert_exporter": "python",
   "pygments_lexer": "ipython3",
   "version": "3.11.7"
  }
 },
 "nbformat": 4,
 "nbformat_minor": 2
}
