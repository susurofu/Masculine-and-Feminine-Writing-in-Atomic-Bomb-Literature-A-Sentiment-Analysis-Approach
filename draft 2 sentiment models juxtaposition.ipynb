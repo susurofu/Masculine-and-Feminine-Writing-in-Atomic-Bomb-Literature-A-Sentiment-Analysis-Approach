{
 "cells": [
  {
   "cell_type": "code",
   "execution_count": 1,
   "metadata": {},
   "outputs": [],
   "source": [
    "import oseti\n",
    "import statistics\n",
    "import nltk\n",
    "#nltk.download('all') #run first time only\n",
    "from nltk.sentiment import SentimentIntensityAnalyzer"
   ]
  },
  {
   "cell_type": "code",
   "execution_count": 2,
   "metadata": {},
   "outputs": [],
   "source": [
    "sia = SentimentIntensityAnalyzer()\n",
    "analyzer = oseti.Analyzer()"
   ]
  },
  {
   "cell_type": "code",
   "execution_count": 3,
   "metadata": {},
   "outputs": [],
   "source": [
    "import oseti"
   ]
  },
  {
   "cell_type": "markdown",
   "metadata": {},
   "source": [
    "# Oseti-dictionary based sentiment analysis vs rule-based VADER\n",
    "Here, we juxtapose the two approaches. Oseti sentiment analyzer has a built-in sentence tokenizer, while VADER demands usage of a particular tokenizers (like one in the NLTK package)."
   ]
  },
  {
   "cell_type": "code",
   "execution_count": 4,
   "metadata": {},
   "outputs": [],
   "source": [
    "with open (\"direct speech sampling JA.txt\", encoding=\"utf-8\") as file:\n",
    "    text = file.read()\n",
    "sampling_ja = text.split(\"\\n\")\n",
    "\n",
    "with open (\"direct speech sampling EN.txt\", encoding=\"utf-8\") as file:\n",
    "    text = file.read()\n",
    "sampling_en = text.split(\"\\n\")"
   ]
  },
  {
   "cell_type": "code",
   "execution_count": 5,
   "metadata": {},
   "outputs": [],
   "source": [
    "sent_values_ja = [statistics.mean(analyzer.analyze(sent)) for sent in sampling_ja]"
   ]
  },
  {
   "cell_type": "code",
   "execution_count": 6,
   "metadata": {},
   "outputs": [
    {
     "data": {
      "text/plain": [
       "0.05882125386842368"
      ]
     },
     "execution_count": 6,
     "metadata": {},
     "output_type": "execute_result"
    }
   ],
   "source": [
    "statistics.mean(sent_values_ja)"
   ]
  },
  {
   "cell_type": "code",
   "execution_count": 7,
   "metadata": {},
   "outputs": [],
   "source": [
    "sent_values_en = [sia.polarity_scores(sent)['compound'] for sent in sampling_en]"
   ]
  },
  {
   "cell_type": "code",
   "execution_count": 8,
   "metadata": {},
   "outputs": [
    {
     "data": {
      "text/plain": [
       "0.002313207547169812"
      ]
     },
     "execution_count": 8,
     "metadata": {},
     "output_type": "execute_result"
    }
   ],
   "source": [
    "statistics.mean(sent_values_en)"
   ]
  },
  {
   "cell_type": "markdown",
   "metadata": {},
   "source": [
    "check how many zero results oseti has in the positions in which VADER shows a result"
   ]
  },
  {
   "cell_type": "code",
   "execution_count": 9,
   "metadata": {},
   "outputs": [
    {
     "name": "stdout",
     "output_type": "stream",
     "text": [
      "30\n"
     ]
    }
   ],
   "source": [
    "non_mutual_z_points = [] #remember indices of zero \n",
    "for i in range(len(sampling_en)):\n",
    "    if sent_values_en[i] != 0 and sent_values_ja[i] == 0:\n",
    "        non_mutual_z_points.append(i)\n",
    "print(len(non_mutual_z_points))\n"
   ]
  },
  {
   "cell_type": "markdown",
   "metadata": {},
   "source": [
    "remove these values from the lists of sentiment scores"
   ]
  },
  {
   "cell_type": "code",
   "execution_count": 10,
   "metadata": {},
   "outputs": [
    {
     "data": {
      "text/plain": [
       "0.3970964977709654"
      ]
     },
     "execution_count": 10,
     "metadata": {},
     "output_type": "execute_result"
    }
   ],
   "source": [
    "non_zero_scores_ja = [sent_values_ja[i] for i in range(len(sent_values_ja)) if i not in non_mutual_z_points]\n",
    "non_zero_scores_en = [sent_values_en[i] for i in range(len(sent_values_en)) if i not in non_mutual_z_points]\n",
    "statistics.correlation(non_zero_scores_ja,non_zero_scores_en)"
   ]
  },
  {
   "cell_type": "markdown",
   "metadata": {},
   "source": [
    "maybe, they match the sign (polarity) of sentiment (+ or -, positive or negative)"
   ]
  },
  {
   "cell_type": "code",
   "execution_count": 11,
   "metadata": {},
   "outputs": [
    {
     "data": {
      "text/plain": [
       "38"
      ]
     },
     "execution_count": 11,
     "metadata": {},
     "output_type": "execute_result"
    }
   ],
   "source": [
    "matching_polarity_indices = []\n",
    "for i in range(len(sampling_ja)):\n",
    "    if sent_values_en[i] * sent_values_ja[i] > 0:\n",
    "        matching_polarity_indices.append(i)\n",
    "len(matching_polarity_indices)"
   ]
  },
  {
   "cell_type": "code",
   "execution_count": 12,
   "metadata": {},
   "outputs": [
    {
     "data": {
      "text/plain": [
       "0.29457364341085274"
      ]
     },
     "execution_count": 12,
     "metadata": {},
     "output_type": "execute_result"
    }
   ],
   "source": [
    "len(matching_polarity_indices) / (len(sent_values_en) - len(non_mutual_z_points))"
   ]
  },
  {
   "cell_type": "markdown",
   "metadata": {},
   "source": [
    "compare such non-promosing result with the authorial speech"
   ]
  },
  {
   "cell_type": "code",
   "execution_count": 13,
   "metadata": {},
   "outputs": [],
   "source": [
    "with open (\"author's speech sampling JA.txt\", encoding=\"utf-8\") as file:\n",
    "    text = file.read()\n",
    "aus_sampling_ja = text.split(\"\\n\")\n",
    "\n",
    "with open (\"author's speech sampling EN.txt\", encoding=\"utf-8\") as file:\n",
    "    text = file.read()\n",
    "aus_sampling_en = text.split(\"\\n\")"
   ]
  },
  {
   "cell_type": "code",
   "execution_count": 14,
   "metadata": {},
   "outputs": [
    {
     "data": {
      "text/plain": [
       "True"
      ]
     },
     "execution_count": 14,
     "metadata": {},
     "output_type": "execute_result"
    }
   ],
   "source": [
    "len(aus_sampling_ja) == len(aus_sampling_en)"
   ]
  },
  {
   "cell_type": "code",
   "execution_count": 15,
   "metadata": {},
   "outputs": [],
   "source": [
    "aus_sent_values_ja = [statistics.mean(analyzer.analyze(sent)) for sent in aus_sampling_ja]"
   ]
  },
  {
   "cell_type": "code",
   "execution_count": 16,
   "metadata": {},
   "outputs": [
    {
     "data": {
      "text/plain": [
       "-0.11745076734164897"
      ]
     },
     "execution_count": 16,
     "metadata": {},
     "output_type": "execute_result"
    }
   ],
   "source": [
    "statistics.mean(aus_sent_values_ja)"
   ]
  },
  {
   "cell_type": "code",
   "execution_count": 17,
   "metadata": {},
   "outputs": [],
   "source": [
    "aus_sent_values_en = [sia.polarity_scores(sent)['compound'] for sent in aus_sampling_en]"
   ]
  },
  {
   "cell_type": "code",
   "execution_count": 18,
   "metadata": {},
   "outputs": [
    {
     "data": {
      "text/plain": [
       "-0.12079130434782608"
      ]
     },
     "execution_count": 18,
     "metadata": {},
     "output_type": "execute_result"
    }
   ],
   "source": [
    "statistics.mean(aus_sent_values_en)"
   ]
  },
  {
   "cell_type": "code",
   "execution_count": 19,
   "metadata": {},
   "outputs": [
    {
     "data": {
      "text/plain": [
       "161"
      ]
     },
     "execution_count": 19,
     "metadata": {},
     "output_type": "execute_result"
    }
   ],
   "source": [
    "len(aus_sent_values_en)"
   ]
  },
  {
   "cell_type": "code",
   "execution_count": 20,
   "metadata": {},
   "outputs": [
    {
     "name": "stdout",
     "output_type": "stream",
     "text": [
      "25\n"
     ]
    }
   ],
   "source": [
    "aus_non_mutual_z_points = [] #remember indices of zero \n",
    "for i in range(len(aus_sampling_en)):\n",
    "    if aus_sent_values_en[i] != 0 and aus_sent_values_ja[i] == 0:\n",
    "        aus_non_mutual_z_points.append(i)\n",
    "print(len(aus_non_mutual_z_points))"
   ]
  },
  {
   "cell_type": "code",
   "execution_count": 21,
   "metadata": {},
   "outputs": [
    {
     "data": {
      "text/plain": [
       "0.28357109266566044"
      ]
     },
     "execution_count": 21,
     "metadata": {},
     "output_type": "execute_result"
    }
   ],
   "source": [
    "aus_non_zero_scores_ja = [aus_sent_values_ja[i] for i in range(len(aus_sent_values_ja)) if i not in aus_non_mutual_z_points]\n",
    "aus_non_zero_scores_en = [aus_sent_values_en[i] for i in range(len(aus_sent_values_en)) if i not in aus_non_mutual_z_points]\n",
    "statistics.correlation(aus_non_zero_scores_ja,aus_non_zero_scores_en)"
   ]
  },
  {
   "cell_type": "code",
   "execution_count": 22,
   "metadata": {},
   "outputs": [
    {
     "data": {
      "text/plain": [
       "77"
      ]
     },
     "execution_count": 22,
     "metadata": {},
     "output_type": "execute_result"
    }
   ],
   "source": [
    "aus_matching_polarity_indices = []\n",
    "for i in range(len(aus_sampling_ja)):\n",
    "    if aus_sent_values_en[i] * aus_sent_values_ja[i] > 0:\n",
    "        aus_matching_polarity_indices.append(i)\n",
    "len(aus_matching_polarity_indices)"
   ]
  },
  {
   "cell_type": "code",
   "execution_count": 23,
   "metadata": {},
   "outputs": [
    {
     "data": {
      "text/plain": [
       "0.5661764705882353"
      ]
     },
     "execution_count": 23,
     "metadata": {},
     "output_type": "execute_result"
    }
   ],
   "source": [
    "len(aus_matching_polarity_indices) / (len(aus_sent_values_en) - len(aus_non_mutual_z_points))"
   ]
  }
 ],
 "metadata": {
  "kernelspec": {
   "display_name": "base",
   "language": "python",
   "name": "python3"
  },
  "language_info": {
   "codemirror_mode": {
    "name": "ipython",
    "version": 3
   },
   "file_extension": ".py",
   "mimetype": "text/x-python",
   "name": "python",
   "nbconvert_exporter": "python",
   "pygments_lexer": "ipython3",
   "version": "3.11.9"
  }
 },
 "nbformat": 4,
 "nbformat_minor": 2
}
