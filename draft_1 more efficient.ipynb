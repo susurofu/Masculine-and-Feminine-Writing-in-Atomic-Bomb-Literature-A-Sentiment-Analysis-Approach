{
 "cells": [
  {
   "cell_type": "code",
   "execution_count": 1,
   "metadata": {},
   "outputs": [],
   "source": [
    "import os"
   ]
  },
  {
   "cell_type": "code",
   "execution_count": 2,
   "metadata": {},
   "outputs": [],
   "source": [
    "def clear_extra_spaces(input_text: str) -> str:\n",
    "    \"\"\"Removes unnecessary common spaces (excluding Japanese spaces) from the text\n",
    "    with cashing the Japanese\"\"\"\n",
    "    japanese_set = {chr(i) for i in range(0x3040, 0x30FF+1)} | {chr(i) for i in range(0x4E00, 0x9FAF+1)}\n",
    "    new_text = []\n",
    "    for i, char in enumerate(input_text):\n",
    "        if char == \" \" and 1 <= i < len(input_text) - 1:\n",
    "            prev_char, next_char = input_text[i-1], input_text[i+1]\n",
    "            if (prev_char in japanese_set and next_char in japanese_set) or prev_char == \" \" or next_char == \" \":\n",
    "                continue\n",
    "        new_text.append(char)\n",
    "    return ''.join(new_text)\n",
    "\n",
    "def correct_ocr_errors(input_text: str) -> str:\n",
    "    \"\"\"Replaces some common OCR errors for the current case.\"\"\"\n",
    "    replacements = {\n",
    "        \":::\": \"……\",\n",
    "        \":：:\": \"……\",\n",
    "        \"\\t\": \"……\",\n",
    "        \"・て\": \"で\",\n",
    "        \"•て\": \"で\",\n",
    "        \"•\": \"・\",\n",
    "        \":：:〇\": \"……。\",\n",
    "        \"^\": \"。\",\n",
    "        \":：:。\": \"……。\",\n",
    "        \"た〇\": \"た。\",\n",
    "        \"た0\": \"た。\"\n",
    "    }\n",
    "    for old, new in replacements.items():\n",
    "        input_text = input_text.replace(old, new)\n",
    "    return clear_extra_spaces(input_text)\n"
   ]
  },
  {
   "cell_type": "code",
   "execution_count": 3,
   "metadata": {},
   "outputs": [],
   "source": [
    "folders = os.listdir(\"C:\\\\Users\\\\Artem\\\\Documents\\\\my python projects\\\\Masculine and Feminine in Atomic Bomb Literature\\\\texts\")\n",
    "for subfolder in folders:\n",
    "    if not os.path.exists(f\"C:\\\\Users\\\\Artem\\\\Documents\\\\my python projects\\\\Masculine and Feminine in Atomic Bomb Literature\\\\preprocessed_texts\\\\{subfolder}\"):\n",
    "        os.makedirs(f\"C:\\\\Users\\\\Artem\\\\Documents\\\\my python projects\\\\Masculine and Feminine in Atomic Bomb Literature\\\\preprocessed_texts\\\\{subfolder}\") \n",
    "\n",
    "    subfolder_files = os.listdir(f\"C:\\\\Users\\\\Artem\\\\Documents\\\\my python projects\\\\Masculine and Feminine in Atomic Bomb Literature\\\\texts\\\\{subfolder}\")\n",
    "    for doc in subfolder_files:\n",
    "        with open(f\"C:\\\\Users\\\\Artem\\\\Documents\\\\my python projects\\\\Masculine and Feminine in Atomic Bomb Literature\\\\texts\\\\{subfolder}\\\\{doc}\", encoding=\"utf-8\") as file:\n",
    "            text = file.read()\n",
    "        cleaned_text = correct_ocr_errors(text)\n",
    "        with open(f\"C:\\\\Users\\\\Artem\\\\Documents\\\\my python projects\\\\Masculine and Feminine in Atomic Bomb Literature\\\\preprocessed_texts\\\\{subfolder}\\\\{doc}\", encoding=\"utf-8\", mode=\"w\") as file:\n",
    "            file.write(cleaned_text)"
   ]
  },
  {
   "cell_type": "code",
   "execution_count": 7,
   "metadata": {},
   "outputs": [
    {
     "data": {
      "text/plain": [
       "21104"
      ]
     },
     "execution_count": 7,
     "metadata": {},
     "output_type": "execute_result"
    }
   ],
   "source": [
    "japanese_set = {chr(i) for i in range(0x3040, 0x30FF+1)} | {chr(i) for i in range(0x4E00, 0x9FAF+1)}\n",
    "len(japanese_set)"
   ]
  },
  {
   "cell_type": "code",
   "execution_count": 8,
   "metadata": {},
   "outputs": [],
   "source": [
    "import os\n",
    "import regex\n",
    "\n",
    "# Use compiled regex for faster repeated use\n",
    "newline_between_japanese_regex = regex.compile(r'([\\p{Script=Hiragana}\\p{Script=Katakana}\\p{Script=Han}])\\n([\\p{Script=Hiragana}\\p{Script=Katakana}\\p{Script=Han}])')\n",
    "\n",
    "def remove_newline_between_japanese(text):\n",
    "    return newline_between_japanese_regex.sub(r'\\1\\2', text)\n",
    "\n",
    "def correct_ocr_errors(input_text:str):\n",
    "    \"\"\"Performs all replacements in a single pass as much as possible.\"\"\"\n",
    "    replacements = [\n",
    "        (\":::\", \"……\"),\n",
    "        (\":：:\", \"……\"),\n",
    "        (\"\\t\", \"……\"),\n",
    "        (\"・て\", \"で\"),\n",
    "        (\"•て\", \"で\"),\n",
    "        (\"•\", \"・\"),\n",
    "        (\":：:〇\", \"……。\"),\n",
    "        (\"^\", \"。\"),\n",
    "        (\":：:。\", \"……。\"),\n",
    "        (\"た〇\", \"た。\"),\n",
    "        (\"た0\", \"た。\"),\n",
    "    ]\n",
    "    \n",
    "    # Apply all replacements\n",
    "    for old, new in replacements:\n",
    "        input_text = input_text.replace(old, new)\n",
    "    \n",
    "    # Remove unnecessary spaces and newlines between Japanese characters\n",
    "    input_text = remove_newline_between_japanese(input_text)\n",
    "    \n",
    "    return input_text\n",
    "\n",
    "def process_files():\n",
    "    base_dir = \"C:\\\\Users\\\\Artem\\\\Documents\\\\my python projects\\\\Masculine and Feminine in Atomic Bomb Literature\"\n",
    "    texts_dir = os.path.join(base_dir, \"texts\")\n",
    "    preprocessed_dir = os.path.join(base_dir, \"preprocessed_texts\")\n",
    "\n",
    "    folders = os.listdir(texts_dir)\n",
    "    for subfolder in folders:\n",
    "        subfolder_path = os.path.join(preprocessed_dir, subfolder)\n",
    "        os.makedirs(subfolder_path, exist_ok=True)\n",
    "\n",
    "        subfolder_files = os.listdir(os.path.join(texts_dir, subfolder))\n",
    "        for doc in subfolder_files:\n",
    "            with open(os.path.join(texts_dir, subfolder, doc), encoding=\"utf-8\") as file:\n",
    "                text = file.read()\n",
    "            \n",
    "            cleaned_text = correct_ocr_errors(text)\n",
    "\n",
    "            with open(os.path.join(preprocessed_dir, subfolder, doc), \"w\", encoding=\"utf-8\") as file:\n",
    "                file.write(cleaned_text)\n",
    "\n",
    "process_files()\n"
   ]
  }
 ],
 "metadata": {
  "kernelspec": {
   "display_name": "base",
   "language": "python",
   "name": "python3"
  },
  "language_info": {
   "codemirror_mode": {
    "name": "ipython",
    "version": 3
   },
   "file_extension": ".py",
   "mimetype": "text/x-python",
   "name": "python",
   "nbconvert_exporter": "python",
   "pygments_lexer": "ipython3",
   "version": "3.11.7"
  }
 },
 "nbformat": 4,
 "nbformat_minor": 2
}
